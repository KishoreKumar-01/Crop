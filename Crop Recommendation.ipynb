{
 "cells": [
  {
   "cell_type": "markdown",
   "id": "aec278ca",
   "metadata": {},
   "source": [
    "<h1><center>Crop Recommentation System</center></h1>"
   ]
  },
  {
   "cell_type": "code",
   "execution_count": 1,
   "id": "4d060e1e",
   "metadata": {},
   "outputs": [],
   "source": [
    "## import packages\n",
    "\n",
    "import pandas as pd\n",
    "import numpy as np\n",
    "import random\n",
    "import matplotlib.pyplot as plt\n",
    "import seaborn as sns\n",
    "from plotly.subplots import make_subplots\n",
    "import plotly.graph_objects as go\n",
    "# import plotly.express as px\n",
    "# from plotly.offline import iplot, init_notebook_mode\n",
    "import lightgbm as lgb\n",
    "# to gnore warning\n",
    "\n",
    "import warnings\n",
    "warnings.filterwarnings('ignore')\n",
    "\n",
    "\n",
    "## import packages\n",
    "\n",
    "# import tensorflow as tf\n",
    "import pandas as pd\n",
    "import matplotlib.pyplot as plt\n",
    "# from tensorflow.keras import Model \n",
    "# from tensorflow.keras.layers import Conv2D, Dense, MaxPooling2D, Dropout, Flatten,GlobalAveragePooling2D\n",
    "# from tensorflow.keras.models import Sequential\n",
    "# from tensorflow.keras.preprocessing.image import ImageDataGenerator\n",
    "# from tensorflow.keras.callbacks import ReduceLROnPlateau\n",
    "# from tensorflow.keras.layers import Input, Lambda, Dense, Flatten\n",
    "# from tensorflow.keras.models import Model\n",
    "# from tensorflow.keras.applications.inception_v3 import InceptionV3\n",
    "# from tensorflow.keras.applications.inception_v3 import preprocess_input\n",
    "# from tensorflow.keras.preprocessing import image\n",
    "# from tensorflow.keras.preprocessing.image import ImageDataGenerator,load_img\n",
    "# from tensorflow.keras.models import Sequential\n",
    "import numpy as np\n",
    "from glob import glob"
   ]
  },
  {
   "cell_type": "code",
   "execution_count": 2,
   "id": "092bf0ab",
   "metadata": {},
   "outputs": [],
   "source": [
    "## import data \n",
    "\n",
    "import pandas as pd\n",
    "\n",
    "classes = ['Paddy', 'Ragi','Cotton', 'Sugarcane','Chilli', 'Pigeon Pea', \n",
    "            'Coconut', 'Onion', 'Banana','Mangoes', 'Turmeric', 'Groundnut', \n",
    "            'Maize', 'Brinjal', 'Carrot', 'Beans']\n",
    "\n",
    "df = pd.read_csv(\"Crop.csv\")\n",
    "\n",
    "X = df.drop('label' ,axis=1)\n",
    "y = df['label']\n",
    "\n"
   ]
  },
  {
   "cell_type": "code",
   "execution_count": 3,
   "id": "f1b7f7ea",
   "metadata": {},
   "outputs": [],
   "source": [
    "# train test split\n",
    "\n",
    "from sklearn.model_selection import train_test_split\n",
    "\n",
    "X_train, X_test, y_train, y_test = train_test_split(X, y, test_size=0.20, random_state=42)\n"
   ]
  },
  {
   "cell_type": "code",
   "execution_count": 4,
   "id": "8094fee9",
   "metadata": {},
   "outputs": [
    {
     "name": "stdout",
     "output_type": "stream",
     "text": [
      "[-0.26101362 -0.20356696 -0.56395103  0.3532217   1.14637716  0.32506727\n",
      " -1.06744001]\n"
     ]
    }
   ],
   "source": [
    "from sklearn.preprocessing import StandardScaler\n",
    "scalar = StandardScaler()\n",
    "scalar.fit(X_train)\n",
    "X_train = scalar.transform(X_train)\n",
    "X_test = scalar.transform(X_test)\n",
    "print(X_test[0])"
   ]
  },
  {
   "cell_type": "code",
   "execution_count": 5,
   "id": "80fdb324",
   "metadata": {},
   "outputs": [],
   "source": [
    "# model training\n",
    "import lightgbm as lgb\n",
    "model = lgb.LGBMClassifier()\n",
    "model.fit(X_train, y_train)\n",
    "l = [199.89, 20.80, 134.22, 92.333383, 5.929663, 112.654779, 22.630942]"
   ]
  },
  {
   "cell_type": "code",
   "execution_count": 6,
   "id": "50a553c8",
   "metadata": {},
   "outputs": [
    {
     "data": {
      "text/plain": [
       "['Brinjal', 'Onion', 'Mangoes', 'Chilli', 'Coconut']"
      ]
     },
     "execution_count": 6,
     "metadata": {},
     "output_type": "execute_result"
    }
   ],
   "source": [
    "import joblib\n",
    " \n",
    "joblib.dump(model, 'predict1.pkl')\n",
    "\n",
    "k = joblib.load('predict1.pkl')\n",
    " \n",
    "k = k.predict_proba([l])\n",
    "\n",
    "list_proba = []\n",
    "for i in [-1,-2,-3,-4,-5]:\n",
    "    list_proba.append(classes[np.argsort(np.max(k, axis=0))[i]])\n",
    "list_proba\n"
   ]
  },
  {
   "cell_type": "markdown",
   "id": "b38eaec7",
   "metadata": {},
   "source": [
    "## Data fields\n",
    "* N - ratio of Nitrogen content in soil\n",
    "* P - ratio of Phosphorous content in soil\n",
    "* K - ratio of Potassium content in soil\n",
    "* temperature - temperature in degree Celsius\n",
    "* humidity - relative humidity in %\n",
    "* ph - ph value of the soil\n",
    "* rainfall - rainfall in mm"
   ]
  },
  {
   "cell_type": "code",
   "execution_count": 7,
   "id": "1c68867a",
   "metadata": {},
   "outputs": [
    {
     "name": "stdout",
     "output_type": "stream",
     "text": [
      "The Shape of the Dataset is: (1400, 8)\n",
      "The number of the columns in the Dataset is: 8\n",
      "The Shape of the row in the Dataset is: 1400\n"
     ]
    }
   ],
   "source": [
    "## shape\n",
    "\n",
    "print(\"The Shape of the Dataset is: {}\" .format(df.shape))\n",
    "print(\"The number of the columns in the Dataset is: {}\" .format(df.shape[1]))\n",
    "print(\"The Shape of the row in the Dataset is: {}\" .format(df.shape[0]))"
   ]
  },
  {
   "cell_type": "code",
   "execution_count": 8,
   "id": "bfddf78a",
   "metadata": {},
   "outputs": [
    {
     "name": "stdout",
     "output_type": "stream",
     "text": [
      "<class 'pandas.core.frame.DataFrame'>\n",
      "RangeIndex: 1400 entries, 0 to 1399\n",
      "Data columns (total 8 columns):\n",
      " #   Column       Non-Null Count  Dtype  \n",
      "---  ------       --------------  -----  \n",
      " 0   N            1400 non-null   int64  \n",
      " 1   P            1400 non-null   int64  \n",
      " 2   K            1400 non-null   int64  \n",
      " 3   temperature  1400 non-null   float64\n",
      " 4   humidity     1400 non-null   float64\n",
      " 5   ph           1400 non-null   float64\n",
      " 6   rainfall     1400 non-null   float64\n",
      " 7   label        1400 non-null   object \n",
      "dtypes: float64(4), int64(3), object(1)\n",
      "memory usage: 87.6+ KB\n"
     ]
    }
   ],
   "source": [
    "## info\n",
    "\n",
    "df.info()"
   ]
  },
  {
   "cell_type": "code",
   "execution_count": 9,
   "id": "2334d4d5",
   "metadata": {},
   "outputs": [
    {
     "data": {
      "text/plain": [
       "N                int64\n",
       "P                int64\n",
       "K                int64\n",
       "temperature    float64\n",
       "humidity       float64\n",
       "ph             float64\n",
       "rainfall       float64\n",
       "label           object\n",
       "dtype: object"
      ]
     },
     "execution_count": 9,
     "metadata": {},
     "output_type": "execute_result"
    }
   ],
   "source": [
    "# type of data\n",
    "\n",
    "df.dtypes"
   ]
  },
  {
   "cell_type": "code",
   "execution_count": 10,
   "id": "f74226bb",
   "metadata": {},
   "outputs": [
    {
     "data": {
      "text/plain": [
       "rice          100\n",
       "maize         100\n",
       "Beans         100\n",
       "Brinjal       100\n",
       "pigeonpeas    100\n",
       "Carrot        100\n",
       "Chilli        100\n",
       "Groundnut     100\n",
       "Onion         100\n",
       "Ragi          100\n",
       "banana        100\n",
       "mango         100\n",
       "Sugarcane     100\n",
       "Turmeric      100\n",
       "Name: label, dtype: int64"
      ]
     },
     "execution_count": 10,
     "metadata": {},
     "output_type": "execute_result"
    }
   ],
   "source": [
    "## count unique values in 'label' columns\n",
    "\n",
    "df['label'].value_counts()"
   ]
  },
  {
   "cell_type": "code",
   "execution_count": 11,
   "id": "938180c6",
   "metadata": {},
   "outputs": [
    {
     "data": {
      "text/plain": [
       "N              0\n",
       "P              0\n",
       "K              0\n",
       "temperature    0\n",
       "humidity       0\n",
       "ph             0\n",
       "rainfall       0\n",
       "label          0\n",
       "dtype: int64"
      ]
     },
     "execution_count": 11,
     "metadata": {},
     "output_type": "execute_result"
    }
   ],
   "source": [
    "## lets check null values\n",
    "\n",
    "df.isnull().sum()"
   ]
  },
  {
   "cell_type": "markdown",
   "id": "954debd0",
   "metadata": {},
   "source": [
    "Great!!, the dataset is clear... there us no data null values"
   ]
  },
  {
   "cell_type": "markdown",
   "id": "06430f95",
   "metadata": {},
   "source": [
    "## Descriptive Statistics"
   ]
  },
  {
   "cell_type": "code",
   "execution_count": 12,
   "id": "43247fbf",
   "metadata": {},
   "outputs": [
    {
     "data": {
      "text/html": [
       "<div>\n",
       "<style scoped>\n",
       "    .dataframe tbody tr th:only-of-type {\n",
       "        vertical-align: middle;\n",
       "    }\n",
       "\n",
       "    .dataframe tbody tr th {\n",
       "        vertical-align: top;\n",
       "    }\n",
       "\n",
       "    .dataframe thead th {\n",
       "        text-align: right;\n",
       "    }\n",
       "</style>\n",
       "<table border=\"1\" class=\"dataframe\">\n",
       "  <thead>\n",
       "    <tr style=\"text-align: right;\">\n",
       "      <th></th>\n",
       "      <th>N</th>\n",
       "      <th>P</th>\n",
       "      <th>K</th>\n",
       "      <th>temperature</th>\n",
       "      <th>humidity</th>\n",
       "      <th>ph</th>\n",
       "      <th>rainfall</th>\n",
       "    </tr>\n",
       "  </thead>\n",
       "  <tbody>\n",
       "    <tr>\n",
       "      <th>count</th>\n",
       "      <td>1400.000000</td>\n",
       "      <td>1400.000000</td>\n",
       "      <td>1400.000000</td>\n",
       "      <td>1400.000000</td>\n",
       "      <td>1400.000000</td>\n",
       "      <td>1400.000000</td>\n",
       "      <td>1400.000000</td>\n",
       "    </tr>\n",
       "    <tr>\n",
       "      <th>mean</th>\n",
       "      <td>43.015000</td>\n",
       "      <td>57.690714</td>\n",
       "      <td>44.941429</td>\n",
       "      <td>25.276862</td>\n",
       "      <td>63.582279</td>\n",
       "      <td>6.419241</td>\n",
       "      <td>92.629221</td>\n",
       "    </tr>\n",
       "    <tr>\n",
       "      <th>std</th>\n",
       "      <td>32.811554</td>\n",
       "      <td>29.276517</td>\n",
       "      <td>46.441576</td>\n",
       "      <td>5.097089</td>\n",
       "      <td>22.937849</td>\n",
       "      <td>0.867631</td>\n",
       "      <td>51.445568</td>\n",
       "    </tr>\n",
       "    <tr>\n",
       "      <th>min</th>\n",
       "      <td>0.000000</td>\n",
       "      <td>5.000000</td>\n",
       "      <td>15.000000</td>\n",
       "      <td>8.825675</td>\n",
       "      <td>14.258040</td>\n",
       "      <td>3.504752</td>\n",
       "      <td>30.920140</td>\n",
       "    </tr>\n",
       "    <tr>\n",
       "      <th>25%</th>\n",
       "      <td>18.750000</td>\n",
       "      <td>38.000000</td>\n",
       "      <td>20.000000</td>\n",
       "      <td>21.324722</td>\n",
       "      <td>50.504269</td>\n",
       "      <td>5.853601</td>\n",
       "      <td>58.464692</td>\n",
       "    </tr>\n",
       "    <tr>\n",
       "      <th>50%</th>\n",
       "      <td>33.000000</td>\n",
       "      <td>58.000000</td>\n",
       "      <td>25.000000</td>\n",
       "      <td>25.542330</td>\n",
       "      <td>67.088927</td>\n",
       "      <td>6.370568</td>\n",
       "      <td>78.114942</td>\n",
       "    </tr>\n",
       "    <tr>\n",
       "      <th>75%</th>\n",
       "      <td>68.250000</td>\n",
       "      <td>72.000000</td>\n",
       "      <td>47.000000</td>\n",
       "      <td>28.660397</td>\n",
       "      <td>82.767249</td>\n",
       "      <td>6.920651</td>\n",
       "      <td>106.968871</td>\n",
       "    </tr>\n",
       "    <tr>\n",
       "      <th>max</th>\n",
       "      <td>120.000000</td>\n",
       "      <td>145.000000</td>\n",
       "      <td>205.000000</td>\n",
       "      <td>41.948657</td>\n",
       "      <td>94.998975</td>\n",
       "      <td>9.935091</td>\n",
       "      <td>298.560117</td>\n",
       "    </tr>\n",
       "  </tbody>\n",
       "</table>\n",
       "</div>"
      ],
      "text/plain": [
       "                 N            P            K  temperature     humidity  \\\n",
       "count  1400.000000  1400.000000  1400.000000  1400.000000  1400.000000   \n",
       "mean     43.015000    57.690714    44.941429    25.276862    63.582279   \n",
       "std      32.811554    29.276517    46.441576     5.097089    22.937849   \n",
       "min       0.000000     5.000000    15.000000     8.825675    14.258040   \n",
       "25%      18.750000    38.000000    20.000000    21.324722    50.504269   \n",
       "50%      33.000000    58.000000    25.000000    25.542330    67.088927   \n",
       "75%      68.250000    72.000000    47.000000    28.660397    82.767249   \n",
       "max     120.000000   145.000000   205.000000    41.948657    94.998975   \n",
       "\n",
       "                ph     rainfall  \n",
       "count  1400.000000  1400.000000  \n",
       "mean      6.419241    92.629221  \n",
       "std       0.867631    51.445568  \n",
       "min       3.504752    30.920140  \n",
       "25%       5.853601    58.464692  \n",
       "50%       6.370568    78.114942  \n",
       "75%       6.920651   106.968871  \n",
       "max       9.935091   298.560117  "
      ]
     },
     "execution_count": 12,
     "metadata": {},
     "output_type": "execute_result"
    }
   ],
   "source": [
    "## descripe\n",
    "\n",
    "df.describe()"
   ]
  },
  {
   "cell_type": "code",
   "execution_count": 13,
   "id": "a09a4884",
   "metadata": {},
   "outputs": [
    {
     "data": {
      "text/html": [
       "<div>\n",
       "<style scoped>\n",
       "    .dataframe tbody tr th:only-of-type {\n",
       "        vertical-align: middle;\n",
       "    }\n",
       "\n",
       "    .dataframe tbody tr th {\n",
       "        vertical-align: top;\n",
       "    }\n",
       "\n",
       "    .dataframe thead th {\n",
       "        text-align: right;\n",
       "    }\n",
       "</style>\n",
       "<table border=\"1\" class=\"dataframe\">\n",
       "  <thead>\n",
       "    <tr style=\"text-align: right;\">\n",
       "      <th></th>\n",
       "      <th>K</th>\n",
       "      <th>N</th>\n",
       "      <th>P</th>\n",
       "      <th>humidity</th>\n",
       "      <th>ph</th>\n",
       "      <th>rainfall</th>\n",
       "      <th>temperature</th>\n",
       "    </tr>\n",
       "    <tr>\n",
       "      <th>label</th>\n",
       "      <th></th>\n",
       "      <th></th>\n",
       "      <th></th>\n",
       "      <th></th>\n",
       "      <th></th>\n",
       "      <th></th>\n",
       "      <th></th>\n",
       "    </tr>\n",
       "  </thead>\n",
       "  <tbody>\n",
       "    <tr>\n",
       "      <th>Beans</th>\n",
       "      <td>79.92</td>\n",
       "      <td>40.09</td>\n",
       "      <td>67.79</td>\n",
       "      <td>16.860439</td>\n",
       "      <td>7.336957</td>\n",
       "      <td>80.058977</td>\n",
       "      <td>18.872847</td>\n",
       "    </tr>\n",
       "    <tr>\n",
       "      <th>Brinjal</th>\n",
       "      <td>20.05</td>\n",
       "      <td>20.75</td>\n",
       "      <td>67.54</td>\n",
       "      <td>21.605357</td>\n",
       "      <td>5.749411</td>\n",
       "      <td>105.919778</td>\n",
       "      <td>20.115085</td>\n",
       "    </tr>\n",
       "    <tr>\n",
       "      <th>Carrot</th>\n",
       "      <td>20.23</td>\n",
       "      <td>21.44</td>\n",
       "      <td>48.01</td>\n",
       "      <td>53.160418</td>\n",
       "      <td>6.831174</td>\n",
       "      <td>51.198487</td>\n",
       "      <td>28.194920</td>\n",
       "    </tr>\n",
       "    <tr>\n",
       "      <th>Chilli</th>\n",
       "      <td>19.87</td>\n",
       "      <td>20.99</td>\n",
       "      <td>47.28</td>\n",
       "      <td>85.499975</td>\n",
       "      <td>6.723957</td>\n",
       "      <td>48.403601</td>\n",
       "      <td>28.525775</td>\n",
       "    </tr>\n",
       "    <tr>\n",
       "      <th>Groundnut</th>\n",
       "      <td>19.24</td>\n",
       "      <td>40.02</td>\n",
       "      <td>67.47</td>\n",
       "      <td>65.118426</td>\n",
       "      <td>7.133952</td>\n",
       "      <td>67.884151</td>\n",
       "      <td>29.973340</td>\n",
       "    </tr>\n",
       "  </tbody>\n",
       "</table>\n",
       "</div>"
      ],
      "text/plain": [
       "               K      N      P   humidity        ph    rainfall  temperature\n",
       "label                                                                       \n",
       "Beans      79.92  40.09  67.79  16.860439  7.336957   80.058977    18.872847\n",
       "Brinjal    20.05  20.75  67.54  21.605357  5.749411  105.919778    20.115085\n",
       "Carrot     20.23  21.44  48.01  53.160418  6.831174   51.198487    28.194920\n",
       "Chilli     19.87  20.99  47.28  85.499975  6.723957   48.403601    28.525775\n",
       "Groundnut  19.24  40.02  67.47  65.118426  7.133952   67.884151    29.973340"
      ]
     },
     "execution_count": 13,
     "metadata": {},
     "output_type": "execute_result"
    }
   ],
   "source": [
    "## pivot table based on label\n",
    "\n",
    "df_label = pd.pivot_table(df, index=['label'], aggfunc='mean')\n",
    "df_label.head()"
   ]
  },
  {
   "cell_type": "code",
   "execution_count": 14,
   "id": "72c959f9",
   "metadata": {},
   "outputs": [
    {
     "data": {
      "image/png": "[encoded data removed]",
      "text/plain": [
       "<Figure size 1500x900 with 2 Axes>"
      ]
     },
     "metadata": {
      "needs_background": "light"
     },
     "output_type": "display_data"
    }
   ],
   "source": [
    "fig, ax = plt.subplots(1, 1, figsize=(15, 9), dpi=100)\n",
    "sns.heatmap(df.corr(), annot = True, cmap = 'Blues')\n",
    "ax.set(xlabel='features')\n",
    "ax.set(ylabel='features')\n",
    "plt.title('Correlation between different features', fontsize = 15, c='black')\n",
    "# plt.tight_layout()\n",
    "plt.show()"
   ]
  },
  {
   "cell_type": "markdown",
   "id": "d8013c6d",
   "metadata": {},
   "source": [
    "## Data Pre-Processing"
   ]
  },
  {
   "cell_type": "code",
   "execution_count": 15,
   "id": "355c9252",
   "metadata": {},
   "outputs": [],
   "source": [
    "## Lets make Climax of the project\n",
    "\n",
    "X = df.drop('label', axis =1)\n",
    "y = df['label']"
   ]
  },
  {
   "cell_type": "code",
   "execution_count": 16,
   "id": "81d992d6",
   "metadata": {},
   "outputs": [],
   "source": [
    "## train test split\n",
    "\n",
    "from sklearn.model_selection import train_test_split\n",
    "# help(train_test_split)\n",
    "X_train, X_test, y_train, y_test = train_test_split(X, y, test_size=0.20, random_state=42)"
   ]
  },
  {
   "cell_type": "code",
   "execution_count": 17,
   "id": "9a6af5df",
   "metadata": {},
   "outputs": [],
   "source": [
    "## StandardScaler \n",
    "\n",
    "from sklearn.preprocessing import StandardScaler\n",
    "scalar = StandardScaler()\n",
    "scalar.fit(X_train)\n",
    "X_train = scalar.transform(X_train)\n",
    "X_test = scalar.transform(X_test)"
   ]
  },
  {
   "cell_type": "code",
   "execution_count": 18,
   "id": "c0a8e8f2",
   "metadata": {},
   "outputs": [
    {
     "name": "stdout",
     "output_type": "stream",
     "text": [
      "[43.59107143 58.08482143 45.90803571 25.2884013  63.78007548  6.42268852\n",
      " 92.96824588]\n"
     ]
    }
   ],
   "source": [
    "print(scalar.mean_)"
   ]
  },
  {
   "cell_type": "markdown",
   "id": "fd6807bf",
   "metadata": {},
   "source": [
    "<h1><center>Model Development</center></h1>"
   ]
  },
  {
   "cell_type": "code",
   "execution_count": 19,
   "id": "e301cd80",
   "metadata": {},
   "outputs": [
    {
     "data": {
      "text/plain": [
       "LGBMClassifier()"
      ]
     },
     "execution_count": 19,
     "metadata": {},
     "output_type": "execute_result"
    }
   ],
   "source": [
    "## model training\n",
    "\n",
    "model = lgb.LGBMClassifier()\n",
    "model.fit(X_train, y_train)"
   ]
  },
  {
   "cell_type": "code",
   "execution_count": 20,
   "id": "230e0481",
   "metadata": {},
   "outputs": [],
   "source": [
    "# predict the results\n",
    "\n",
    "y_pred = model.predict(X_test)"
   ]
  },
  {
   "cell_type": "code",
   "execution_count": 21,
   "id": "b4b47672",
   "metadata": {},
   "outputs": [],
   "source": [
    "from sklearn.metrics import accuracy_score\n",
    "from sklearn.metrics import f1_score\n",
    "from sklearn.metrics import recall_score\n",
    "from sklearn.metrics import precision_score\n",
    "\n",
    "def Metrics_calculator(y_pred, y_test):\n",
    "    accuracy = accuracy_score(y_pred, y_test)\n",
    "    precision = precision_score(y_pred, y_test, pos_label='positive', average='micro')\n",
    "    recall = recall_score(y_pred, y_test, pos_label='positive', average='micro')\n",
    "    f1 = f1_score(y_pred, y_test, pos_label='positive', average='micro')\n",
    "    \n",
    "    return accuracy, precision, recall, f1"
   ]
  },
  {
   "cell_type": "code",
   "execution_count": 22,
   "id": "570cc5c7",
   "metadata": {},
   "outputs": [],
   "source": [
    "lgb_accuracy, lgb_precision, lgb_recall, lgb_f1 = Metrics_calculator(y_pred, y_test)"
   ]
  },
  {
   "cell_type": "code",
   "execution_count": 23,
   "id": "f343f42b",
   "metadata": {},
   "outputs": [
    {
     "name": "stdout",
     "output_type": "stream",
     "text": [
      "Accuracy of the lightgbm Model is:  0.9964285714285714\n",
      "Precision of the lightgbm Model is:  0.9964285714285714\n",
      "Recall of the lightgbm Model is:  0.9964285714285714\n",
      "F1 of the lightgbm Model is:  0.9964285714285714\n"
     ]
    }
   ],
   "source": [
    "print('Accuracy of the lightgbm Model is: ', lgb_accuracy)\n",
    "print('Precision of the lightgbm Model is: ', lgb_precision)\n",
    "print('Recall of the lightgbm Model is: ', lgb_recall)\n",
    "print('F1 of the lightgbm Model is: ', lgb_f1)"
   ]
  },
  {
   "cell_type": "code",
   "execution_count": 24,
   "id": "42592a15",
   "metadata": {},
   "outputs": [
    {
     "data": {
      "image/png": "[encoded data removed]",
      "text/plain": [
       "<Figure size 1080x1080 with 2 Axes>"
      ]
     },
     "metadata": {
      "needs_background": "light"
     },
     "output_type": "display_data"
    }
   ],
   "source": [
    "## confusion Matrix\n",
    "\n",
    "from sklearn.metrics import confusion_matrix\n",
    "cm = confusion_matrix(y_test, y_pred)\n",
    "\n",
    "plt.figure(figsize=(15, 15))\n",
    "sns.heatmap(cm, annot=True, fmt=\".0f\", linewidths=.5, square = True, cmap = 'Blues');\n",
    "plt.ylabel('Actual label');\n",
    "plt.xlabel('Predicted label');\n",
    "all_sample_title = 'Confusion Matrix - score:'+str(accuracy_score(y_test,y_pred))\n",
    "plt.title(all_sample_title, size = 15);\n",
    "plt.show()"
   ]
  }
 ],
 "metadata": {
  "interpreter": {
   "hash": "01fb7690f00d5fc9c52931e2d0a811e94d42b79099f752fef75d0afc7a9cb985"
  },
  "kernelspec": {
   "display_name": "Python 3.10.4 64-bit",
   "language": "python",
   "name": "python3"
  },
  "language_info": {
   "codemirror_mode": {
    "name": "ipython",
    "version": 3
   },
   "file_extension": ".py",
   "mimetype": "text/x-python",
   "name": "python",
   "nbconvert_exporter": "python",
   "pygments_lexer": "ipython3",
   "version": "3.10.4"
  }
 },
 "nbformat": 4,
 "nbformat_minor": 5
}
